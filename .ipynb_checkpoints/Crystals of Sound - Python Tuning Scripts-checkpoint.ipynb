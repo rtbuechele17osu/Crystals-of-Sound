{
 "cells": [
  {
   "cell_type": "markdown",
   "id": "6febd22d-b914-487d-acd0-ac21c446b5c2",
   "metadata": {},
   "source": [
    "# Crystals of Sound\n",
    "\n",
    "The following notebook contains a Python implementation of the calculations needed to produce the results presented in the manuscript \"Crystals of sound: applying the physics of phase transitions to musical intonation.\" A few precalculated data sets are provided to produce the results presented in the paper, or you can run the simulation to produce your own data; however, the section titled \"Solving the Mean Field Model\" can be quite slow depending on input paramters.\n",
    "\n",
    "Where indicated, there are a few parameters which can be easily adjusted to alter the output of the calculation to explore other tuning systems. Lines of programming preceded by a `#` are comments, used to explain portions of the code, or simply remove certain lines from the program. For a more in depth discussion of the methods in this notebook, see [this article in Science Advances](https://www.science.org/doi/10.1126/sciadv.aav8490).\n",
    "\n",
    "The following packages will need to be installed in order to run the code: `numpy`, `matplotlib`, `IPython`, `time`, `scipy.signal` and `scipy.fft`."
   ]
  },
  {
   "cell_type": "code",
   "execution_count": null,
   "id": "2677f0e5-ccde-4aee-bbfb-83a2f84887a5",
   "metadata": {},
   "outputs": [],
   "source": [
    "import numpy as np\n",
    "from scipy.fft import fft\n",
    "from numpy.random import rand, normal\n",
    "from scipy.signal import find_peaks\n",
    "import pickle\n",
    "from time import sleep\n",
    "from IPython import display\n",
    "\n",
    "%matplotlib inline\n",
    "import matplotlib.pyplot as plt\n",
    "import matplotlib as mpl\n",
    "mpl.rc('xtick', direction='in', top=True)\n",
    "mpl.rc('ytick', direction='in', right=True)\n",
    "mpl.rc('xtick.minor', visible=True)\n",
    "mpl.rc('ytick.minor', visible=True)"
   ]
  },
  {
   "cell_type": "markdown",
   "id": "4054e4ba-aa45-4a47-84ea-df42d6e0244f",
   "metadata": {},
   "source": [
    "## Computing the Dissonance Function\n",
    "\n",
    "This computes the dissonance between two pure sine wave tones, plotted for a variety of critical bandwidth $\\omega_c$ values."
   ]
  },
  {
   "cell_type": "code",
   "execution_count": null,
   "id": "bdca4896-ff5d-4c6e-a242-5a1ae7769ae4",
   "metadata": {},
   "outputs": [],
   "source": [
    "def Diss(fa, fb, wc):\n",
    "    '''\n",
    "    Given two frequencies fa, fb, computes the simple \n",
    "    two-tone dissonance for an interval x = log_2(fa/fb), \n",
    "    with critical bandwidth wc.\n",
    "    '''\n",
    "    dx = np.abs(np.log2(np.outer(fa,1/fb)))\n",
    "    return np.exp(-np.log(dx/wc)**2)/wc"
   ]
  },
  {
   "cell_type": "code",
   "execution_count": null,
   "id": "086b5920-c6b6-4368-a1f9-980ac736071d",
   "metadata": {},
   "outputs": [],
   "source": [
    "wc_arr = np.array([0.03, 0.05, 0.1, 0.2]);\n",
    "\n",
    "f_min = 1; ## unison\n",
    "f_max = 2; ## one octave\n",
    "f_pts = 500;\n",
    "f_arr = np.linspace(f_min,f_max,f_pts);\n",
    "dx_arr = 1200*np.abs(np.log2(np.outer(f_arr,1)));\n",
    "\n",
    "fig_simple_diss = plt.figure(figsize=(10,6));\n",
    "ax_simple_diss = fig_simple_diss.add_subplot(111);\n",
    "ax_simple_diss.set_xlabel(\"Interval (cents)\");\n",
    "ax_simple_diss.set_ylabel(\"Dissonance (arb. units)\");\n",
    "ax_simple_diss.set_title(\"Simple 2-tone Dissonance function\");\n",
    "\n",
    "for wc in wc_arr:\n",
    "    ax_simple_diss.plot(dx_arr, Diss(f_arr, 1, wc), label = f\"wc={wc}\");\n",
    "    \n",
    "ax_simple_diss.legend();"
   ]
  },
  {
   "cell_type": "markdown",
   "id": "6e89bf2c-4adc-4781-bf44-258642cf7bbd",
   "metadata": {},
   "source": [
    "## Sawtooth Dissonance\n",
    "\n",
    "To reproduce the plot in Figure 2, set `n_partials=10` and `wc=36/1200`. For Figure 13, set `n_partials=14` and `wc=12/1200`. A few 5-limit JI ratios are included for comparison, denoted in red, dashed vertical lines."
   ]
  },
  {
   "cell_type": "code",
   "execution_count": null,
   "id": "dd84255e-083e-4c00-b81f-691d09d569ef",
   "metadata": {},
   "outputs": [],
   "source": [
    "## literal recreation of Matlab 'sawtooth_dissonance.m'\n",
    "def sawtooth_diss(wc, n_partials, farr):\n",
    "    partials = np.arange(n_partials)+1;\n",
    "    amps = 1/partials;\n",
    "    \n",
    "    dtab = np.zeros(len(farr));\n",
    "    for f in range(len(farr)):\n",
    "        diss = 0;\n",
    "        f2 = farr[f];\n",
    "        for j in range(len(partials)):\n",
    "            m = partials[j];\n",
    "            dx = np.abs(np.log2(partials/m)-f2);\n",
    "            diss += np.sum(np.minimum(amps[j],amps)**0.606 * np.exp(-np.log(dx/wc)**2))/wc;\n",
    "        dtab[f] = diss;\n",
    "    \n",
    "    return dtab\n",
    "    \n",
    "## Set Partials and critical bandwidth here ########################\n",
    "n_partials = 10; \n",
    "wc = 36/1200; \n",
    "####################################################################\n",
    "\n",
    "f_min = -4; f_max = 4; \n",
    "f_pts = 8000;\n",
    "f_arr = np.linspace(f_min, f_max, f_pts);\n",
    "dtab = sawtooth_diss(wc, n_partials, f_arr);\n",
    "\n",
    "fn = f_arr[np.logical_and(0<=f_arr,f_arr<1)]; ## frequency range from one octave\n",
    "## add up dissonance from each octave\n",
    "dn = np.sum(dtab.reshape( (len(fn), len(dtab)//len(fn)), order='F' ), axis=1); \n",
    "\n",
    "fig_full_diss = plt.figure(figsize=(10,6));\n",
    "ax_full_diss = fig_full_diss.add_subplot(111);\n",
    "ax_full_diss.set_xlabel(\"Interval (cents)\");\n",
    "ax_full_diss.set_ylabel(\"Dissonance (arb. units)\");\n",
    "ax_full_diss.set_title(f\"Full Dissonance function, w_c={wc}, N={n_partials} harmonics\");\n",
    "\n",
    "ax_full_diss.plot(1200*fn, dn)\n",
    "\n",
    "ratios = 1200*np.log2(np.array([9/8,6/5,5/4,4/3,3/2,8/5,5/3,16/9]));    ## defines JI ratios of interest\n",
    "ratio_names = ['9/8','6/5','5/4','4/3','3/2','8/5','5/3','16/9'];\n",
    "\n",
    "[ax_full_diss.axvline(r,ymax=0.95,color='red',ls='dashed',lw=2) for r in ratios];\n",
    "[ax_full_diss.text(ratios[j],1*max(dn),ratio_names[j],fontsize=12, ha='center') for j in range(len(ratio_names))];\n"
   ]
  },
  {
   "cell_type": "markdown",
   "id": "66f88d01-3cf1-4c59-b1db-0c81a5ecc738",
   "metadata": {},
   "source": [
    "This plot indicates the Fourier components of the Dissonance function; the most negative component is an order parameter for the mean field model and is highlighted here in red. For the case of $\\omega_c=36/1200$, the component with $k=12$ is most negative, suggesting a 12-fold ordering of pitches."
   ]
  },
  {
   "cell_type": "code",
   "execution_count": null,
   "id": "bac15ecc-d9f0-43e7-bdfe-7a7d9d9ef161",
   "metadata": {},
   "outputs": [],
   "source": [
    "fig_diss_fourier = plt.figure(figsize=(10,6));\n",
    "ax_diss_fourier = fig_diss_fourier.add_subplot(111);\n",
    "ax_diss_fourier.set_xlabel(\"k\");\n",
    "ax_diss_fourier.set_ylabel(\"D_k\");\n",
    "ax_diss_fourier.set_title(\"Fourier Components D_k of Dissonance function\");\n",
    "\n",
    "k_max = 60; \n",
    "k_arr = np.arange(len(fn))[1:k_max];\n",
    "fourier_arr = 2/len(fn)*np.real(fft(dn))[1:k_max];\n",
    "\n",
    "barlist = ax_diss_fourier.bar(k_arr, fourier_arr);\n",
    "barlist[np.argmin(fourier_arr)].set_color('r');\n"
   ]
  },
  {
   "cell_type": "markdown",
   "id": "61fba0a3-9bf0-4093-a50d-5a2071c228b3",
   "metadata": {
    "tags": []
   },
   "source": [
    "## Solving the Mean Field Model\n",
    "\n",
    "The code to solve the mean field model can be fairly slow, especially near the transition temperatures, where the probability distributions take longer to converge to the optimal values. This can be sped up by increasing the value of `maxerr` or decreasing the value of `maxiter`, at the cost of precision in the simulation. The option `show_progress` can be set to `True` or `False`; setting it to `True` will slow down the simulation, but allow you to watch as the solver converges to the optimal distribution at each temperature. For your convenience, a few pre-calculated data sets are provided, using both the fixed critical bandwidth and variable bandwidth dissonance functions."
   ]
  },
  {
   "cell_type": "code",
   "execution_count": null,
   "id": "1904f856-2007-491c-8f8f-fe8041343d4b",
   "metadata": {},
   "outputs": [],
   "source": [
    "def SolveMeanField(p, temp, D_arr, max_err, max_iter, show_progress=False):\n",
    "    err = 1; \n",
    "    count = 0;\n",
    "    \n",
    "    errs = []; Fs = [];\n",
    "    \n",
    "    p = np.abs(p+normal(size=p.shape)*1e-3);  ## add jitter to destabilize\n",
    "    p /= (np.sum(p)/n_bins);                   ## renormalize\n",
    "    \n",
    "    if show_progress==True:\n",
    "        ## initialize plots for progress\n",
    "        fig_progress = plt.figure(figsize=(8,8));\n",
    "        gs = fig_progress.add_gridspec(2,2);\n",
    "        \n",
    "        ax_prog_p = fig_progress.add_subplot(gs[0,:]);\n",
    "        ax_prog_p.set_title(f\"T = {temp}\");\n",
    "        ax_prog_p.set_xlabel(\"Frequency (cents)\");\n",
    "        ax_prog_p.set_ylabel(\"Probability Density\");\n",
    "        line_p, = ax_prog_p.plot(1200*f_arr, p);\n",
    "        \n",
    "        ax_prog_f = fig_progress.add_subplot(gs[1,0]);\n",
    "        ax_prog_f.set_xlabel(\"Iteration\");\n",
    "        ax_prog_f.set_ylabel(\"Free Energy\");\n",
    "        line_f, = ax_prog_f.plot(np.nan);\n",
    "        \n",
    "        ax_prog_err = fig_progress.add_subplot(gs[1,1]);\n",
    "        ax_prog_err.set_xlabel(\"Iteration\");\n",
    "        ax_prog_err.set_ylabel(\"Error (log scale)\");\n",
    "        ax_prog_err.set_yscale(\"log\");\n",
    "        line_err, = ax_prog_err.plot(err);\n",
    "\n",
    "    if show_progress==False:\n",
    "        display.clear_output(wait=True)\n",
    "        print(f\"T={np.round(temp,3)} \\n ---------------- \\n Iterations: <100\");\n",
    "\n",
    "    while err>max_err and count<max_iter:\n",
    "        count+=1;\n",
    "        p_arr = np.tile(p, (len(p),1) );\n",
    "        \n",
    "        intgl = np.sum(D_arr*p_arr,axis=1)/n_bins;\n",
    "        num = np.exp(-intgl/temp);  ## numerator of Eqn. 4\n",
    "        denom = np.sum(num)/n_bins;  ## denom of Eqn. 4 (partition function)\n",
    "        \n",
    "        E_tot = 0.5*np.sum(p*intgl)/n_bins;\n",
    "        S_tot = -np.sum(p*np.log(p))/n_bins;\n",
    "        F = E_tot - temp*S_tot;\n",
    "        \n",
    "        p_new = num/denom;\n",
    "        err = np.sum((p_new-p)**2);  ## sum of squares difference\n",
    "        p = (p+0.5*p_new);           ## iterate by interpolate between LHS and RHS of Eqn. 4\n",
    "        p/=np.sum(p)/n_bins;          ## renormalize\n",
    "        \n",
    "        errs.append(err); Fs.append(F);\n",
    "        \n",
    "        if show_progress==True and count%10==0:\n",
    "            display.clear_output(wait=True)\n",
    "            \n",
    "            line_p.set_ydata(p);\n",
    "            ax_prog_p.set_ylim(0,1.1*max(p));\n",
    "            \n",
    "            x_axis = np.arange(len(Fs))+1\n",
    "            line_f.set_xdata(x_axis);\n",
    "            line_f.set_ydata(np.array(Fs));\n",
    "            ax_prog_f.set_xlim(1,max(x_axis));\n",
    "            ax_prog_f.set_ylim(0,max(Fs));\n",
    "            \n",
    "            line_err.set_xdata(x_axis);\n",
    "            line_err.set_ydata(np.array(errs));\n",
    "            ax_prog_err.set_xlim(1,max(x_axis));\n",
    "            ax_prog_err.set_ylim(max_err,max(errs));\n",
    "            \n",
    "            display.display(plt.gcf())\n",
    "            sleep(0.5);\n",
    "\n",
    "        if show_progress==False and count%100==0:\n",
    "            display.clear_output(wait=True)\n",
    "            print(f\"T={np.round(temp,3)} \\n ---------------- \\n Iterations: {count}\");\n",
    "        \n",
    "    if show_progress==True:\n",
    "        plt.close(fig_progress)\n",
    "        \n",
    "    return (E_tot, S_tot, p);"
   ]
  },
  {
   "cell_type": "code",
   "execution_count": null,
   "id": "b5690e47-4776-445a-8aaf-a1505b543037",
   "metadata": {},
   "outputs": [],
   "source": [
    "n_bins = 1200;\n",
    "f_arr = np.linspace(0,1,n_bins);\n",
    "f1, f2 = np.meshgrid(f_arr,f_arr);\n",
    "D_arr = np.interp(np.abs(f1-f2), fn, dn); ## 1D linear interpolation, could use a more sophisticated one if you like\n",
    "\n",
    "## setup temperature range for sweep\n",
    "t_min = 10; t_max = 30; t_pts = 200;\n",
    "t_arr = np.linspace(t_max, t_min, t_pts);\n",
    "\n",
    "## error threshold and max iterations for solver\n",
    "max_err = 1e-10;\n",
    "max_iter = 1e4;\n",
    "\n",
    "Ds = np.zeros(len(t_arr));                ## store total dissonance at each T\n",
    "Ss = np.zeros(len(t_arr));                ## store total entropy at each T\n",
    "Ps = np.zeros((len(f_arr), len(t_arr)));  ## store prob dist at each T\n",
    "\n",
    "## initialize random probability distribution; fix normalization\n",
    "p = rand(n_bins);\n",
    "p /= (np.sum(p)/n_bins);\n",
    "\n",
    "## do first iteration; each subsequent iteration will use previous solution as starting point\n",
    "Ds[0], Ss[0], Ps[:,0] = SolveMeanField(p, t_arr[0], D_arr, max_err, max_iter, show_progress=False);\n",
    "\n",
    "for t in range(1,len(t_arr)):\n",
    "    Ds[t], Ss[t], Ps[:,t] = SolveMeanField(Ps[:,t-1], t_arr[t], D_arr, max_err, max_iter, show_progress=False);\n",
    "    "
   ]
  },
  {
   "cell_type": "markdown",
   "id": "d36b3b1d-b3c3-47a0-9168-a01d25580a39",
   "metadata": {},
   "source": [
    "### Saving data\n",
    "\n",
    "To save the data from a simulation run, uncomment and run the following code. Be careful to check the file name before saving to avoid overwriting data."
   ]
  },
  {
   "cell_type": "code",
   "execution_count": null,
   "id": "e3fd557d-70a6-41d2-b3b3-55f1a11d1856",
   "metadata": {},
   "outputs": [],
   "source": [
    "##data = {'Temps':t_arr, 'Freqs':f_arr, 'Diss':Ds, 'Entropy':Ss, 'Probs':Ps}\n",
    "\n",
    "##with open(f'MFProb_N={n_partials}_wc={wc}_err={max_err}_iter={max_iter}.pickle','wb') as file:\n",
    "##    pickle.dump(data, file);"
   ]
  },
  {
   "cell_type": "markdown",
   "id": "060e099c-135d-45e3-b017-2b91a5cbb047",
   "metadata": {},
   "source": [
    "### Loading saved data\n",
    "To use one of the provided data sets, first ensure the pickle file is saved in the same folder as this notebook. Remove the comment lines from the following cell and run the code; this should set each array with the values from the pickle file, allowing you to run the remainder of the notebook using that data.\n",
    "\n",
    "To produce the results shown in Figures 3 and 6: `MFProb_N=10_wc=0.03_err=1e-12_iter=10000.0.pickle`\n",
    "\n",
    "To produce the results shown in Figures 14 and 15: `MFProb_N=14_wc=0.01_err=1e-12_iter=10000.0.pickle`"
   ]
  },
  {
   "cell_type": "code",
   "execution_count": null,
   "id": "b6189205-4a65-47d9-97ca-b7bf1ea42576",
   "metadata": {},
   "outputs": [],
   "source": [
    "##with open(f'MFProb_N=10_wc=0.03_err=1e-12_iter=10000.0.pickle','rb') as file:\n",
    "##    data = pickle.load(file);\n",
    "\n",
    "##t_arr = data['Temps']; \n",
    "##f_arr = data['Freqs'];\n",
    "##Ds = data['Diss'];\n",
    "##Ss = data['Entropy'];\n",
    "##Ps = data['Probs'];"
   ]
  },
  {
   "cell_type": "markdown",
   "id": "b88df08e-ec4f-4048-8cc7-5e0b10580af4",
   "metadata": {},
   "source": [
    "This animation shows the evolution from disordered sound to ordered distributions as a function of temperature; you can change the speed of the animation by change the value of `frame_rate`.,"
   ]
  },
  {
   "cell_type": "code",
   "execution_count": null,
   "id": "fa250679-f2da-4c59-a5a9-760304cb9c28",
   "metadata": {},
   "outputs": [],
   "source": [
    "mf_anim = plt.figure(figsize=(10,6));\n",
    "ax_mf_anim = mf_anim.add_subplot(111);\n",
    "ax_mf_anim.set_xlabel(\"Frequency (cents)\");\n",
    "ax_mf_anim.set_ylabel(\"Probability Density\");\n",
    "ax_mf_anim.set_xlim(0,1200);\n",
    "ax_mf_anim.set_ylim(0,max(Ps[:,0]));\n",
    "line_mf, = ax_mf_anim.plot(1200*f_arr, Ps[:,0], label = f\"T={t_arr[0]}\");\n",
    "ax_mf_anim.legend(loc='upper right');\n",
    "\n",
    "frame_rate = 20 ## frames per second (roughly)\n",
    "for t in range(1,len(t_arr)):\n",
    "    sleep(1/frame_rate);\n",
    "    display.clear_output(wait=True);\n",
    "    line_mf.set_ydata(Ps[:,t]);\n",
    "    line_mf.set_label(f\"T={t_arr[t]}\");\n",
    "    ax_mf_anim.set_ylim(0,max(Ps[:,t]));\n",
    "    ax_mf_anim.legend(loc='upper right');\n",
    "    display.display(plt.gcf());\n",
    "    \n",
    "plt.close(mf_anim);   "
   ]
  },
  {
   "cell_type": "markdown",
   "id": "f49695d8-8598-4469-82b3-86e931a07ea9",
   "metadata": {},
   "source": [
    "The following plot shows the previous animation in a still image, as shown in Figures 3 and 14."
   ]
  },
  {
   "cell_type": "code",
   "execution_count": null,
   "id": "a45b97d6-90bb-49c4-a55e-110cfd784e9d",
   "metadata": {},
   "outputs": [],
   "source": [
    "## Plot probabilities across range of T\n",
    "t2, f2 = np.meshgrid(t_arr, f_arr);\n",
    "\n",
    "## set color scale to make tunings visible\n",
    "col_min=-15; col_max=2; col_pts=200;\n",
    "levels = np.logspace(col_min,col_max,col_pts);\n",
    "ticks = np.logspace(col_min,col_max,col_max-col_min+1);\n",
    "\n",
    "fig_mf_prob = plt.figure(figsize=(8,8));\n",
    "ax_mf_prob = fig_mf_prob.add_subplot(111);\n",
    "cplot = ax_mf_prob.contourf(1200*f2, t2, Ps, cmap='inferno', norm=mpl.colors.LogNorm(), levels=levels, vmin=0.1);\n",
    "cbar = fig_mf_prob.colorbar(cplot, ticks=ticks);\n",
    "ax_mf_prob.set_xlabel(\"Frequency (cents)\");\n",
    "ax_mf_prob.set_ylabel(\"Temperature\");\n",
    "ax_mf_prob.set_title(\"Probability Density\");"
   ]
  },
  {
   "cell_type": "markdown",
   "id": "10204027-e62f-40de-9f93-d19711cce76f",
   "metadata": {},
   "source": [
    "In this cell, select a temperature from the range shown above; this will then plot the pitch probability distribution nearest to that temperature. Peaks in the distribution have their positions indicated wtih dashed, green vertical lines; the height of what is considered a \"peak\" can be set with the line `height = 0.1`. Gridlines are included every 100 cents for comparison to 12-TET; a selection of 5-limit JI ratios are indicated in dotted, red vertical lines for comparison as well."
   ]
  },
  {
   "cell_type": "code",
   "execution_count": null,
   "id": "85db35a9-c59b-43a3-a519-bd789cdd8b71",
   "metadata": {},
   "outputs": [],
   "source": [
    "## Pick a temperature ############################\n",
    "T = 18;\n",
    "##################################################\n",
    "\n",
    "T_ind = np.argmin(np.abs(t_arr-T));\n",
    "p_arr = np.roll(Ps[:,T_ind], -np.argmax(Ps[:,t]));\n",
    "\n",
    "## find peaks in probability distribution\n",
    "height = 0.1; ## set height of peak to look for\n",
    "mf_inds = find_peaks(p_arr,height=height)[0];\n",
    "mf_pitches = 1200*f_arr[mf_inds];\n",
    "\n",
    "fig_peaks = plt.figure(figsize=(12,6));\n",
    "ax_peaks = fig_peaks.add_subplot(111);\n",
    "ax_peaks.plot(1200*f_arr, p_arr, label = f'T={T}');\n",
    "ax_peaks.legend(loc='upper right');\n",
    "ax_peaks.set_xlabel(\"Frequency (cents)\");\n",
    "ax_peaks.set_ylabel(\"Probability Density\");\n",
    "[ax_peaks.axvline(f,ymin=0.5,ymax=0.95,color='green',ls='dashed',lw=2) for f in mf_pitches];\n",
    "\n",
    "## Compare to 12-TET\n",
    "et_ticks = np.arange(0,1201,100);\n",
    "et_names = ['C','C#','D','D#','E','F','F#','G','G#','A','A#','B','C'];\n",
    "ax_peaks.grid(which='major', axis='x');\n",
    "ax_peaks.set_xticks(et_ticks);\n",
    "[ax_peaks.text(et_ticks[j],1.06*np.max(p_arr),et_names[j],fontsize=12, ha='center') for j in range(len(et_names))];\n",
    "\n",
    "## Compare to 5-limit JI\n",
    "ratios = 1200*np.log2(np.array([1, 16/15, 9/8, 6/5, 5/4, 4/3, 45/32, 64/45, 3/2, 8/5, 5/3, 16/9, 15/8]));    ## defines JI ratios of interest\n",
    "ratio_names = ['1','16/15','9/8','6/5','5/4','4/3','45/32','64/45','3/2','8/5','5/3','16/9','15/8'];\n",
    "[ax_peaks.axvline(r,ymin=0.08,ymax=0.5,color='red',ls='dotted',lw=2) for r in ratios];\n",
    "# [ax_peaks.text(ratios[j],0.15,ratio_names[j],fontsize=12, ha='center') for j in range(len(ratio_names))];\n",
    "\n"
   ]
  },
  {
   "cell_type": "markdown",
   "id": "32ea6436-eff1-4213-8591-7cb3e7b6a628",
   "metadata": {},
   "source": [
    "## Plots for Physics Nerds\n",
    "\n",
    "Below we plot the the free energy vs. temperature, as well as Fourier components of the mean field probability distributions and their derivatives, which serve as order parameters for the model. The peaks in the the derivative demonstrate the existence of phase transitions."
   ]
  },
  {
   "cell_type": "code",
   "execution_count": null,
   "id": "39778868-94e8-4090-a649-187891548da1",
   "metadata": {},
   "outputs": [],
   "source": [
    "## Plot Free energy vs. T\n",
    "fig_freeE = plt.figure(figsize=(10,6));\n",
    "ax_freeE = fig_freeE.add_subplot(111);\n",
    "ax_freeE.plot(t_arr, Ds-t_arr*Ss, marker='.', ms=10);\n",
    "ax_freeE.set_xlabel(\"Temperature\");\n",
    "ax_freeE.set_ylabel(\"Free Energy\");"
   ]
  },
  {
   "cell_type": "code",
   "execution_count": null,
   "id": "86f667cf-e967-4bad-a7cc-e37b1b13fedd",
   "metadata": {},
   "outputs": [],
   "source": [
    "pk_arr = np.abs(fft(Ps,axis=0).T)/len(f_arr)\n",
    "k_max = 20;\n",
    "\n",
    "fig_mf_fourier = plt.figure(figsize=(8,6));\n",
    "ax_mf_fourier = fig_mf_fourier.add_subplot(211);\n",
    "ax_mf_fourier.set_xlabel(\"Temperature\");\n",
    "ax_mf_fourier.set_ylabel(r\"$|p_k|$\");\n",
    "ax_mf_dfdt = fig_mf_fourier.add_subplot(212);\n",
    "ax_mf_dfdt.set_xlabel(\"Temperature\");\n",
    "ax_mf_dfdt.set_ylabel(r\"$|\\frac{d}{dT} p_k|$\");\n",
    "\n",
    "for k in range(k_max):\n",
    "    ax_mf_fourier.plot(t_arr, pk_arr[:,k]);\n",
    "    \n",
    "    dt = np.diff(t_arr);\n",
    "    dpk = np.diff(pk_arr[:,k]);\n",
    "    ax_mf_dfdt.plot(t_arr[:-1]+dt[0], np.abs(dpk/dt));\n",
    "    "
   ]
  }
 ],
 "metadata": {
  "kernelspec": {
   "display_name": "Python 3 (ipykernel)",
   "language": "python",
   "name": "python3"
  },
  "language_info": {
   "codemirror_mode": {
    "name": "ipython",
    "version": 3
   },
   "file_extension": ".py",
   "mimetype": "text/x-python",
   "name": "python",
   "nbconvert_exporter": "python",
   "pygments_lexer": "ipython3",
   "version": "3.11.7"
  }
 },
 "nbformat": 4,
 "nbformat_minor": 5
}
